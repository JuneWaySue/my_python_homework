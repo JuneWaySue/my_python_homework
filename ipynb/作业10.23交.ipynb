{
 "cells": [
  {
   "cell_type": "markdown",
   "metadata": {},
   "source": [
    "# 定义一个参数数目不定的函数求一组数的最大值"
   ]
  },
  {
   "cell_type": "code",
   "execution_count": 1,
   "metadata": {},
   "outputs": [
    {
     "name": "stdout",
     "output_type": "stream",
     "text": [
      "最大值为： 520\n"
     ]
    }
   ],
   "source": [
    "def getMax(*a):\n",
    "    b=list(a)\n",
    "    for i in range(0,len(b)):\n",
    "        for j in range(i+1,len(b)):\n",
    "            first=b[i]\n",
    "            second=b[j]\n",
    "            if first<second:\n",
    "                b[i]=b[j]\n",
    "                b[j]=first\n",
    "    print(\"最大值为：\",b[0])\n",
    "getMax(12,3,4,53,2,64,23,520)"
   ]
  },
  {
   "cell_type": "markdown",
   "metadata": {},
   "source": [
    "# 已知一个列表中存储了多个整数（用随机函数产生列表），\n",
    "# 请编写函数，删除列表中的素数"
   ]
  },
  {
   "cell_type": "code",
   "execution_count": 5,
   "metadata": {},
   "outputs": [
    {
     "name": "stdout",
     "output_type": "stream",
     "text": [
      "随机生成的10个整数为： [49, 43, 44, 13, 58, 50, 20, 4, 14, 9]\n",
      "删除表中的素数后得： [49, 44, 58, 50, 20, 4, 14, 9]\n"
     ]
    }
   ],
   "source": [
    "import random\n",
    "i=0\n",
    "b=[]\n",
    "while i<10:\n",
    "    a=random.randint(1,100)\n",
    "    b.append(a)\n",
    "    i=i+1\n",
    "print(\"随机生成的10个整数为：\",b)\n",
    "for j in b:\n",
    "    if j>1:\n",
    "        for k in range(2,j):\n",
    "            if (j % k) == 0:\n",
    "                break\n",
    "        else:\n",
    "            b.remove(j)\n",
    "if 3 in b:\n",
    "    b.remove(3)\n",
    "print(\"删除表中的素数后得：\",b)"
   ]
  },
  {
   "cell_type": "code",
   "execution_count": 9,
   "metadata": {},
   "outputs": [
    {
     "name": "stdout",
     "output_type": "stream",
     "text": [
      "随机生成的10个整数为： [88, 33, 14, 45, 80, 45, 44, 71, 56, 34]\n",
      "删除表中的素数后得： [71]\n"
     ]
    }
   ],
   "source": [
    "import random\n",
    "i=0\n",
    "b=[]\n",
    "c=[]\n",
    "while i<10:\n",
    "    a=random.randint(1,100)\n",
    "    b.append(a)\n",
    "    i=i+1\n",
    "print(\"随机生成的10个整数为：\",b)\n",
    "for j in b:\n",
    "    if j>1:\n",
    "        for k in range(2,j):\n",
    "            if (j % k) == 0:\n",
    "                break\n",
    "        else:\n",
    "            c.append(j)\n",
    "b=c\n",
    "print(\"删除表中的素数后得：\",b)"
   ]
  }
 ],
 "metadata": {
  "kernelspec": {
   "display_name": "Python 3",
   "language": "python",
   "name": "python3"
  },
  "language_info": {
   "codemirror_mode": {
    "name": "ipython",
    "version": 3
   },
   "file_extension": ".py",
   "mimetype": "text/x-python",
   "name": "python",
   "nbconvert_exporter": "python",
   "pygments_lexer": "ipython3",
   "version": "3.6.3"
  }
 },
 "nbformat": 4,
 "nbformat_minor": 2
}
