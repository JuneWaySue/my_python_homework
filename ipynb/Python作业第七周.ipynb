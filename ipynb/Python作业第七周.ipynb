{
 "cells": [
  {
   "cell_type": "markdown",
   "metadata": {},
   "source": [
    "# 编写函数，求出“1/(1x2)-1/(2x3)+1/(3x4)-1/(4x5)+...”前n项的和，函数以n为参数，它是用户输入的。"
   ]
  },
  {
   "cell_type": "code",
   "execution_count": 4,
   "metadata": {},
   "outputs": [
    {
     "name": "stdout",
     "output_type": "stream",
     "text": [
      "请输入n的值：1\n",
      "前1项和为： 0.5\n"
     ]
    }
   ],
   "source": [
    "def he1(n):\n",
    "    k=1\n",
    "    s=0\n",
    "    while (k<=n)&(k%2!=0):\n",
    "        s=s+1/(k*(k+1))\n",
    "        k=k+2\n",
    "    def he2():\n",
    "        q=2\n",
    "        while (q<=n)&(q%2==0):\n",
    "            nonlocal s\n",
    "            s=s-1/(q*(q+1))\n",
    "            q=q+2\n",
    "        print(\"前%s项和为：\"%n,s)\n",
    "        return s\n",
    "    return he2\n",
    "n=int(input(\"请输入n的值：\"))\n",
    "hehe=he1(n)()"
   ]
  },
  {
   "cell_type": "markdown",
   "metadata": {},
   "source": [
    "# 回文数是一个正向和逆向都是相同的整数，如123454321、9889。编写函数判断一个整数是否是回文数。"
   ]
  },
  {
   "cell_type": "code",
   "execution_count": 36,
   "metadata": {},
   "outputs": [
    {
     "name": "stdout",
     "output_type": "stream",
     "text": [
      "请输入一个需要判断的整数：1234321\n",
      "这个是回文数！\n"
     ]
    }
   ],
   "source": [
    "def ishui(n):\n",
    "    flag=True\n",
    "    for i in range(len(n)//2):\n",
    "        if n[i]!=n[len(n)-i-1]:  #判断第一个数与最后一个数是否相等\n",
    "            flag=False\n",
    "            break\n",
    "    if flag==True:\n",
    "        print(\"这个是回文数！\")\n",
    "    else:\n",
    "        print(\"这个不是回文数！\")\n",
    "n=input(\"请输入一个需要判断的整数：\")\n",
    "ishui(n)"
   ]
  },
  {
   "cell_type": "code",
   "execution_count": 4,
   "metadata": {},
   "outputs": [
    {
     "name": "stdout",
     "output_type": "stream",
     "text": [
      "请输入第一个数：4\n",
      "请输入第二个数：2\n",
      "请输入第三个数：5\n",
      "最大值为：5\n"
     ]
    }
   ],
   "source": [
    "def getMax():\n",
    "    a=int(input(\"请输入第一个数：\"))\n",
    "    b=int(input(\"请输入第二个数：\"))\n",
    "    c=int(input(\"请输入第三个数：\"))\n",
    "    L=[]\n",
    "    L.append(a)\n",
    "    L.append(b)\n",
    "    L.append(c)\n",
    "    for i in range(0,len(L)):\n",
    "        for j in range(i+1,len(L)):\n",
    "            first=L[i]\n",
    "            second=L[j]\n",
    "            if first<second:\n",
    "                first=L[j]\n",
    "                second=L[i]\n",
    "                break\n",
    "    print(\"最大值为：%d\"%first)\n",
    "getMax()"
   ]
  },
  {
   "cell_type": "code",
   "execution_count": 6,
   "metadata": {},
   "outputs": [
    {
     "name": "stdout",
     "output_type": "stream",
     "text": [
      "6\n"
     ]
    }
   ],
   "source": [
    "l = [2,1,4,5,5,6,4]\n",
    "m = l[0]\n",
    "for i in l:\n",
    "    if i>m:\n",
    "        m = i\n",
    "print(m)"
   ]
  },
  {
   "cell_type": "code",
   "execution_count": null,
   "metadata": {
    "collapsed": true
   },
   "outputs": [],
   "source": [
    "def getM(*arg):\n",
    "    return max(arg)\n"
   ]
  }
 ],
 "metadata": {
  "kernelspec": {
   "display_name": "Python 3",
   "language": "python",
   "name": "python3"
  },
  "language_info": {
   "codemirror_mode": {
    "name": "ipython",
    "version": 3
   },
   "file_extension": ".py",
   "mimetype": "text/x-python",
   "name": "python",
   "nbconvert_exporter": "python",
   "pygments_lexer": "ipython3",
   "version": "3.6.3"
  }
 },
 "nbformat": 4,
 "nbformat_minor": 2
}
