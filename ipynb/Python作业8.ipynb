{
 "cells": [
  {
   "cell_type": "markdown",
   "metadata": {},
   "source": [
    "## 1.设计一个表示学生的类：Student，该类的属性包括name（姓名）、age（年龄）、scores（成绩，包含语文、数学和英语三科成绩，每科成绩的类型为整数），此外该类还有3个方法。\n",
    "### （1）获取学生姓名的方法：get_name（），返回类型为str。\n",
    "### （2）获取学生年龄的方法：get_age（），返回类型为int。\n",
    "### （3）返回3门科目中最高的分数：get_course（），返回类型为int。"
   ]
  },
  {
   "cell_type": "code",
   "execution_count": 13,
   "metadata": {},
   "outputs": [
    {
     "name": "stdout",
     "output_type": "stream",
     "text": [
      "我叫张三,今年20岁，三门科目中分数最高为100分\n"
     ]
    }
   ],
   "source": [
    "class Student:\n",
    "    def __init__ (self,name,age,*scores):\n",
    "        self.__name = name\n",
    "        self.__age = age\n",
    "        self.scores = scores\n",
    "    def get_name(self):\n",
    "        return self.__name\n",
    "    def get_age(self):\n",
    "        return self.__age\n",
    "    def get_course(self):\n",
    "        return max(self.scores)\n",
    "    def __repr__(self):\n",
    "        return \"我叫%s,今年%s岁，三门科目中分数最高为%s分\"%(self.__name,self.__age,self.get_course())\n",
    "\n",
    "\n",
    "student1=Student(\"张三\",20,88,99,100)\n",
    "print(student1)"
   ]
  },
  {
   "cell_type": "markdown",
   "metadata": {},
   "source": [
    "## 2. 设计一个表示动物的类：Animal，其内部有一个color（颜色）属性和call（叫）方法。再设计一个Fish（鱼）类，该类中有tail（尾巴）和color属性，以及一个call（叫）方法。\n",
    "## 提示：让Fish类继承自Animal类，重写init和call方法。"
   ]
  },
  {
   "cell_type": "code",
   "execution_count": 1,
   "metadata": {},
   "outputs": [
    {
     "name": "stdout",
     "output_type": "stream",
     "text": [
      "我是一条鱼！\n",
      "我有尾巴,我的颜色是五颜六色\n"
     ]
    }
   ],
   "source": [
    "class Animal:\n",
    "    def __init__(self,color):\n",
    "        self.color = color\n",
    "    def call(self):\n",
    "        print(\"我是动物！\")\n",
    "        \n",
    "class Fish(Animal):\n",
    "    def __init__(self,tail,color):\n",
    "        self.tail = tail\n",
    "        super().__init__(color)\n",
    "    def call(self):\n",
    "        print(\"我是一条鱼！\")\n",
    "\n",
    "\n",
    "fish1=Fish(\"有尾巴\",\"五颜六色\")\n",
    "fish1.call()\n",
    "print(\"我%s,我的颜色是%s\"%(fish1.tail,fish1.color))"
   ]
  }
 ],
 "metadata": {
  "kernelspec": {
   "display_name": "Python 3",
   "language": "python",
   "name": "python3"
  },
  "language_info": {
   "codemirror_mode": {
    "name": "ipython",
    "version": 3
   },
   "file_extension": ".py",
   "mimetype": "text/x-python",
   "name": "python",
   "nbconvert_exporter": "python",
   "pygments_lexer": "ipython3",
   "version": "3.6.3"
  }
 },
 "nbformat": 4,
 "nbformat_minor": 2
}
