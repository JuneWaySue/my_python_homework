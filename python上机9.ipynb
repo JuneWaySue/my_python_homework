{
 "cells": [
  {
   "cell_type": "code",
   "execution_count": 1,
   "metadata": {
    "collapsed": true
   },
   "outputs": [],
   "source": [
    "import numpy as np\n",
    "import pandas as pd\n",
    "from sklearn import datasets\n",
    "from sklearn.externals import joblib\n",
    "from sklearn.decomposition import PCA\n",
    "from sklearn.preprocessing import Normalizer\n",
    "from sklearn.neighbors import KNeighborsClassifier\n",
    "from sklearn.model_selection import train_test_split\n",
    "from sklearn.preprocessing import LabelEncoder,OneHotEncoder\n",
    "from sklearn.preprocessing import MinMaxScaler,StandardScaler\n",
    "from sklearn.metrics import accuracy_score,recall_score,f1_score\n",
    "from sklearn.discriminant_analysis import LinearDiscriminantAnalysis"
   ]
  },
  {
   "cell_type": "markdown",
   "metadata": {},
   "source": [
    "## 上机任务 对HR表进行knn算法学习和预测，要求对数据进行不同方式的变换，对比不同变换下预测结果的好坏，在knn学习时，也要求对neighbors设置不同的值，对比预测结果的好坏"
   ]
  },
  {
   "cell_type": "code",
   "execution_count": 8,
   "metadata": {
    "collapsed": true
   },
   "outputs": [],
   "source": [
    "d=dict([(\"low\",0),(\"medium\",1),(\"high\",2)])\n",
    "def map_salary(s):\n",
    "    return d.get(s,0)\n",
    "#sl:satisfaction_level----False:MinMaxScaler; True: StandardScaler\n",
    "#le:last_evaluation----False:MinMaxScaler; True: StandardScaler\n",
    "def hr_preprocessing(sl=False,le=False,npr=False,amh=False,tsc=False,wa=False,dp=False,slr=False,lower_d=False,ld_n=1):\n",
    "    df=pd.read_csv(\"D:\\python3.7\\HEHE\\HR.csv\",engine='python')\n",
    "    #数据清洗\n",
    "    df=df.dropna(subset=[\"satisfaction_level\",\"last_evaluation\"])\n",
    "    df=df[df[\"satisfaction_level\"]<=1][df[\"salary\"]!=\"nme\"]\n",
    "    \n",
    "    #获得标注\n",
    "    label=df[\"left\"]\n",
    "    df=df.drop(\"left\",axis=1)\n",
    "    \n",
    "    #特征变换\n",
    "    scaler_lst=[sl,le,npr,amh,tsc,wa]\n",
    "    column_lst=[\"satisfaction_level\",\"last_evaluation\",\"number_project\",\"average_monthly_hours\",\"time_spend_company\",\"Work_accident\"]\n",
    "    \n",
    "    for i in range(len(scaler_lst)):\n",
    "        if not scaler_lst[i]:\n",
    "            df[column_lst[i]]=MinMaxScaler().fit_transform(df[column_lst[i]].values.reshape(-1,1)).reshape(1,-1)[0]\n",
    "        else:\n",
    "            df[column_lst[i]]=StandardScaler().fit_transform(df[column_lst[i]].values.reshape(-1,1)).reshape(1,-1)[0]\n",
    "            \n",
    "    scaler_lst=[slr,dp]\n",
    "    column_lst=[\"salary\",\"department\"]\n",
    "    \n",
    "    for i in range(len(scaler_lst)):\n",
    "        if not scaler_lst[i]:\n",
    "            if column_lst[i]==\"salary\":\n",
    "                df[column_lst[i]]=[map_salary(s) for s in df[\"salary\"].values]\n",
    "            else:\n",
    "                df[column_lst[i]]=LabelEncoder().fit_transform(df[column_lst[i]])\n",
    "                df[column_lst[i]]=MinMaxScaler().fit_transform(df[column_lst[i]].values.reshape(-1,1)).reshape(1,-1)[0]\n",
    "        else:\n",
    "            df=pd.get_dummies(df,columns=[column_lst[i]])\n",
    "            \n",
    "    #降维处理\n",
    "    if lower_d:\n",
    "        return PCA(n_components=ld_n).fit_transform(df.values),label\n",
    "    \n",
    "    return df,label\n",
    "\n",
    "def Estimator(features,label,neighbors):\n",
    "    X_train,X_test,Y_train,Y_test=train_test_split(features,label,test_size=0.2)\n",
    "    knn_clf=KNeighborsClassifier(neighbors)\n",
    "    knn_clf.fit(X_train,Y_train)\n",
    "    Y_pred=knn_clf.predict(X_test)\n",
    "    print(\"正确率ACC:\",accuracy_score(Y_test,Y_pred))\n",
    "    print(\"召回率REC:\",recall_score(Y_test,Y_pred,average='micro'))\n",
    "    print(\"查准率F-score:\",f1_score(Y_test,Y_pred,average='micro'))"
   ]
  },
  {
   "cell_type": "code",
   "execution_count": 9,
   "metadata": {},
   "outputs": [
    {
     "name": "stderr",
     "output_type": "stream",
     "text": [
      "D:\\Users\\lib\\site-packages\\sklearn\\utils\\validation.py:475: DataConversionWarning: Data with input dtype int64 was converted to float64 by MinMaxScaler.\n",
      "  warnings.warn(msg, DataConversionWarning)\n"
     ]
    },
    {
     "name": "stdout",
     "output_type": "stream",
     "text": [
      "正确率ACC: 0.957\n",
      "召回率REC: 0.957\n",
      "查准率F-score: 0.957\n"
     ]
    }
   ],
   "source": [
    "#features,label=hr_preprocessing()        #第一种变换\n",
    "#features,label=hr_preprocessing(sl=True,le=True,npr=True,amh=True,tsc=True,wa=True,dp=True,slr=False,lower_d=False,ld_n=1) #第二种变换\n",
    "features,label=hr_preprocessing(dp=True) #第三种变换\n",
    "#Estimator(features,label,neighbors=5)  #第一种neighbors值的设置\n",
    "Estimator(features,label,neighbors=3)  #第二种neighbors值的设置"
   ]
  }
 ],
 "metadata": {
  "kernelspec": {
   "display_name": "Python 3",
   "language": "python",
   "name": "python3"
  },
  "language_info": {
   "codemirror_mode": {
    "name": "ipython",
    "version": 3
   },
   "file_extension": ".py",
   "mimetype": "text/x-python",
   "name": "python",
   "nbconvert_exporter": "python",
   "pygments_lexer": "ipython3",
   "version": "3.6.3"
  }
 },
 "nbformat": 4,
 "nbformat_minor": 2
}
