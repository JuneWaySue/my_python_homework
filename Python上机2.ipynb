{
 "cells": [
  {
   "cell_type": "markdown",
   "metadata": {},
   "source": [
    "# 九九乘法表"
   ]
  },
  {
   "cell_type": "code",
   "execution_count": 8,
   "metadata": {},
   "outputs": [
    {
     "name": "stdout",
     "output_type": "stream",
     "text": [
      "1x1=1 \n",
      "\n",
      "2x1=2 2x2=4 \n",
      "\n",
      "3x1=3 3x2=6 3x3=9 \n",
      "\n",
      "4x1=4 4x2=8 4x3=12 4x4=16 \n",
      "\n",
      "5x1=5 5x2=10 5x3=15 5x4=20 5x5=25 \n",
      "\n",
      "6x1=6 6x2=12 6x3=18 6x4=24 6x5=30 6x6=36 \n",
      "\n",
      "7x1=7 7x2=14 7x3=21 7x4=28 7x5=35 7x6=42 7x7=49 \n",
      "\n",
      "8x1=8 8x2=16 8x3=24 8x4=32 8x5=40 8x6=48 8x7=56 8x8=64 \n",
      "\n",
      "9x1=9 9x2=18 9x3=27 9x4=36 9x5=45 9x6=54 9x7=63 9x8=72 9x9=81 \n",
      "\n"
     ]
    }
   ],
   "source": [
    "for i in range(1,10):\n",
    "    for j in range(1,i+1):\n",
    "        print(\"{}x{}={}\".format(i,j,i*j),end=\" \")\n",
    "    print(\"\\n\")"
   ]
  },
  {
   "cell_type": "markdown",
   "metadata": {},
   "source": [
    "# 统计字符串中数字出现的次数"
   ]
  },
  {
   "cell_type": "code",
   "execution_count": 7,
   "metadata": {},
   "outputs": [
    {
     "name": "stdout",
     "output_type": "stream",
     "text": [
      "该字符串中数字有10个\n"
     ]
    }
   ],
   "source": [
    "s=\"asu3475hf7438fg34fgue\"\n",
    "k=0\n",
    "for i in s:\n",
    "    if i in \"0123456789\":\n",
    "        k=k+1\n",
    "print(\"该字符串中数字有\"+ str(k) +\"个\")"
   ]
  }
 ],
 "metadata": {
  "kernelspec": {
   "display_name": "Python 3",
   "language": "python",
   "name": "python3"
  },
  "language_info": {
   "codemirror_mode": {
    "name": "ipython",
    "version": 3
   },
   "file_extension": ".py",
   "mimetype": "text/x-python",
   "name": "python",
   "nbconvert_exporter": "python",
   "pygments_lexer": "ipython3",
   "version": "3.6.3"
  }
 },
 "nbformat": 4,
 "nbformat_minor": 2
}
