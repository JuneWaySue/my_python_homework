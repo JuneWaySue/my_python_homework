{
 "cells": [
  {
   "cell_type": "markdown",
   "metadata": {},
   "source": [
    "## 编写数字统计程序，统计文本文件中的段落数、汉字数、非汉字数"
   ]
  },
  {
   "cell_type": "code",
   "execution_count": 12,
   "metadata": {},
   "outputs": [
    {
     "name": "stdout",
     "output_type": "stream",
     "text": [
      "段落数的个数为： 63\n",
      "汉字的个数为： 3437\n",
      "非汉字数的个数为： 1322\n"
     ]
    }
   ],
   "source": [
    "import re\n",
    "file=open(\"D:\\yi岁就很帅\\Documents\\Python\\\\JayChou.txt\",\"r\")\n",
    "txt=str(file.read())\n",
    "dls=re.findall(\"\\n\",txt)\n",
    "print(\"段落数的个数为：\",len(dls)+1)\n",
    "hzs=re.findall(\"[\\u4e00-\\u9fa5]\",txt)\n",
    "print(\"汉字的个数为：\",len(hzs))\n",
    "fhzs=re.findall(\"[^\\u4e00-\\u9fa5]\",txt)\n",
    "print(\"非汉字数的个数为：\",len(fhzs))\n",
    "file.close()"
   ]
  },
  {
   "cell_type": "markdown",
   "metadata": {},
   "source": [
    "## 编写一个原生爬从小程序，爬取指定网页的数据，并对数据进行排序显示，并尝试把数据保存到文件中。"
   ]
  },
  {
   "cell_type": "code",
   "execution_count": 24,
   "metadata": {},
   "outputs": [
    {
     "name": "stdout",
     "output_type": "stream",
     "text": [
      "{'电影名称': ['9号秘事 万圣节特别篇'], '评分': 8.6}\n",
      "{'电影名称': ['网络谜踪'], '评分': 8.5}\n",
      "{'电影名称': ['碟中谍6：全面瓦解'], '评分': 8.2}\n",
      "{'电影名称': ['解除好友：暗网'], '评分': 7.9}\n",
      "{'电影名称': ['蚁人2：黄蜂女现身'], '评分': 7.4}\n",
      "{'电影名称': ['镰仓物语'], '评分': 6.9}\n",
      "{'电影名称': ['精灵旅社3：疯狂假期'], '评分': 6.7}\n",
      "{'电影名称': ['修女'], '评分': 5.9}\n",
      "{'电影名称': ['黄金兄弟'], '评分': 5.0}\n",
      "{'电影名称': ['大轰炸'], '评分': 2.8}\n"
     ]
    }
   ],
   "source": [
    "from urllib import request\n",
    "import re\n",
    "import operator\n",
    "\n",
    "url=\"https://movie.douban.com/chart\"   #豆瓣电影排行榜网站\n",
    "content=request.urlopen(url).read().decode(\"utf-8\")\n",
    "content=str(content)\n",
    "#print(cortern)\n",
    "pat0='<a class=\"nbg\"([\\w\\W]*?)</tr>'  #包含电影名称和评分的正则\n",
    "pat1='title=\"([\\w\\W]*?)\">'            #取电影名称的正则\n",
    "pat2='<span class=\"rating_nums\">([\\w\\W]*?)</span>'  #取评分正则\n",
    "qb=re.findall(pat0,content)\n",
    "data=[]\n",
    "for html in qb:\n",
    "    name=re.findall(pat1,html)\n",
    "    pf=re.findall(pat2,html)\n",
    "    d={'电影名称':name,'评分':pf}\n",
    "    data.append(d)\n",
    "\n",
    "#取出每个字典里的评分并存在列表n中\n",
    "n=[]\n",
    "for i in range(0,10):\n",
    "    num=data[i].get(\"评分\")\n",
    "    num=list(map(float,num))\n",
    "    n.append(num)\n",
    "\n",
    "#将n中的每个元素转换成浮点型\n",
    "nn=[]\n",
    "for j in n:\n",
    "    nn.append(float(j[0]))\n",
    "\n",
    "#将原来的data里的评分改成浮点型\n",
    "k=0\n",
    "while(k<=9):\n",
    "    for x in nn:\n",
    "        data[k][\"评分\"]=x\n",
    "        k=k+1\n",
    "#按照评分的大小进行从大到小排序\n",
    "data=sorted(data,key=operator.itemgetter('评分'),reverse=True)\n",
    "for w in data:\n",
    "    print(w)\n",
    "\n",
    "#写入文件\n",
    "f=open(\"当前电影及其评分排行.txt\",\"w\")\n",
    "f.write(str(data))\n",
    "f.close()"
   ]
  }
 ],
 "metadata": {
  "kernelspec": {
   "display_name": "Python 3",
   "language": "python",
   "name": "python3"
  },
  "language_info": {
   "codemirror_mode": {
    "name": "ipython",
    "version": 3
   },
   "file_extension": ".py",
   "mimetype": "text/x-python",
   "name": "python",
   "nbconvert_exporter": "python",
   "pygments_lexer": "ipython3",
   "version": "3.6.3"
  }
 },
 "nbformat": 4,
 "nbformat_minor": 2
}
