{
 "cells": [
  {
   "cell_type": "markdown",
   "metadata": {},
   "source": [
    "1.抽时间完成第2,4章的课后习题\n",
    "2.教材P103第五题\n"
   ]
  },
  {
   "cell_type": "code",
   "execution_count": null,
   "metadata": {
    "collapsed": true
   },
   "outputs": [],
   "source": [
    "3.写出下列代码的输出结果(尝试解释运行结果)\n",
    "（1)\n",
    "a=[1,2,3]\n",
    "b=[1,2,4]\n",
    "a<b\n",
    "(2)\n",
    "a=[1,2,3]\n",
    "b=[1,2,3,4]\n",
    "a<b\n",
    "(3)\n",
    "a=[1,2,3]\n",
    "b=[1,2,3]\n",
    "a==b \n",
    "a is b\n",
    "(4)\n",
    "a=[1,2,3]\n",
    "b=a\n",
    "a==b \n",
    "a is b"
   ]
  },
  {
   "cell_type": "code",
   "execution_count": 2,
   "metadata": {},
   "outputs": [
    {
     "data": {
      "text/plain": [
       "True"
      ]
     },
     "execution_count": 2,
     "metadata": {},
     "output_type": "execute_result"
    }
   ],
   "source": [
    "a=[1,2,3]\n",
    "b=[1,2,4]\n",
    "a<b"
   ]
  },
  {
   "cell_type": "code",
   "execution_count": 3,
   "metadata": {},
   "outputs": [
    {
     "data": {
      "text/plain": [
       "True"
      ]
     },
     "execution_count": 3,
     "metadata": {},
     "output_type": "execute_result"
    }
   ],
   "source": [
    "a=[1,2,3]\n",
    "b=[1,2,3,4]\n",
    "a<b"
   ]
  },
  {
   "cell_type": "code",
   "execution_count": 6,
   "metadata": {},
   "outputs": [
    {
     "data": {
      "text/plain": [
       "False"
      ]
     },
     "execution_count": 6,
     "metadata": {},
     "output_type": "execute_result"
    }
   ],
   "source": [
    "a=[1,2,3]\n",
    "b=[1,2,3]\n",
    "a==b \n",
    "a is b"
   ]
  },
  {
   "cell_type": "code",
   "execution_count": 7,
   "metadata": {},
   "outputs": [
    {
     "data": {
      "text/plain": [
       "True"
      ]
     },
     "execution_count": 7,
     "metadata": {},
     "output_type": "execute_result"
    }
   ],
   "source": [
    "a=[1,2,3]\n",
    "b=a\n",
    "a==b \n",
    "a is b"
   ]
  },
  {
   "cell_type": "code",
   "execution_count": null,
   "metadata": {
    "collapsed": true
   },
   "outputs": [],
   "source": [
    "4.已知L = ['Adam', 'Lisa', 'Paul', 'Bart']如果我们要把Paul和Bart都删掉，请解释下面的代码为什么不能正确运行：因为Paul删除后，Bart的下标为2，代码L.pop(3)错误\n",
    "L.pop(2)\n",
    "L.pop(3)\n",
    "\n",
    "怎样调整代码可以把Paul和Bart都正确删除掉？\n",
    "\n",
    "把两句代码调换一下位置即可。"
   ]
  },
  {
   "cell_type": "markdown",
   "metadata": {},
   "source": [
    "5.假设有个列表存储了奇数个数字，请编写程序，输出中间位置的数字"
   ]
  },
  {
   "cell_type": "code",
   "execution_count": 17,
   "metadata": {},
   "outputs": [
    {
     "name": "stdout",
     "output_type": "stream",
     "text": [
      "中间位置的数字为：3\n"
     ]
    }
   ],
   "source": [
    "a=[1,2,3,4,5]\n",
    "ind=len(a)//2\n",
    "print(\"中间位置的数字为：%d\"%a[ind])"
   ]
  },
  {
   "cell_type": "markdown",
   "metadata": {},
   "source": [
    "6.算法设计教材P104题六（6）（还不需要写代码）"
   ]
  },
  {
   "cell_type": "code",
   "execution_count": null,
   "metadata": {
    "collapsed": true
   },
   "outputs": [],
   "source": [
    "算法设计参考（题六（8）） \n",
    "假设L为待操作的列表，算法步骤如下：\n",
    "（1）s初始化为一个空集合\n",
    "（2）对于L中的每一元素i\n",
    "    (2.1)判断i是否在集合s中，若在，将i从L中删除，否则\n",
    "    （2.2）将i加入s集合中\n"
   ]
  },
  {
   "cell_type": "code",
   "execution_count": 31,
   "metadata": {},
   "outputs": [
    {
     "name": "stdout",
     "output_type": "stream",
     "text": [
      "{2, 4, 12, 5}\n"
     ]
    }
   ],
   "source": [
    "s=set()\n",
    "L=[2,5,12,2,4]\n",
    "i=0\n",
    "while(i<len(L)):\n",
    "    if L[i] not in s:\n",
    "        s.add(L[i])\n",
    "        i=i+1\n",
    "    else:\n",
    "        L.remove(L[i])\n",
    "print(s)"
   ]
  }
 ],
 "metadata": {
  "kernelspec": {
   "display_name": "Python 3",
   "language": "python",
   "name": "python3"
  },
  "language_info": {
   "codemirror_mode": {
    "name": "ipython",
    "version": 3
   },
   "file_extension": ".py",
   "mimetype": "text/x-python",
   "name": "python",
   "nbconvert_exporter": "python",
   "pygments_lexer": "ipython3",
   "version": "3.6.3"
  }
 },
 "nbformat": 4,
 "nbformat_minor": 2
}
